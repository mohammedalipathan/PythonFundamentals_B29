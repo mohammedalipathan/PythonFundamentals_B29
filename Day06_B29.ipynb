{
 "cells": [
  {
   "cell_type": "code",
   "execution_count": null,
   "metadata": {},
   "outputs": [],
   "source": [
    "# Slicing of lists: "
   ]
  },
  {
   "cell_type": "code",
   "execution_count": 1,
   "metadata": {},
   "outputs": [],
   "source": [
    "students = ['mayur','ravi','yogesh','srinivas','naveed','anusha','kiran','sukanya']"
   ]
  },
  {
   "cell_type": "code",
   "execution_count": 2,
   "metadata": {},
   "outputs": [
    {
     "name": "stdout",
     "output_type": "stream",
     "text": [
      "['mayur', 'yogesh', 'naveed', 'kiran']\n"
     ]
    }
   ],
   "source": [
    "print(students[0:8:2])"
   ]
  },
  {
   "cell_type": "code",
   "execution_count": null,
   "metadata": {},
   "outputs": [],
   "source": [
    "# Introduction to FOR Loops #######"
   ]
  },
  {
   "cell_type": "code",
   "execution_count": 3,
   "metadata": {},
   "outputs": [],
   "source": [
    "newstudents = ['anjali','mansoora','ajeeth','naveed','kiran','ram','harshitha','zubair']"
   ]
  },
  {
   "cell_type": "code",
   "execution_count": null,
   "metadata": {},
   "outputs": [],
   "source": [
    "Req: Appreciate the above students for submittiong their daily assignments on time."
   ]
  },
  {
   "cell_type": "code",
   "execution_count": 4,
   "metadata": {},
   "outputs": [
    {
     "name": "stdout",
     "output_type": "stream",
     "text": [
      "keep up the good work,anjali\n"
     ]
    }
   ],
   "source": [
    "print(f\"keep up the good work,{newstudents[0]}\")"
   ]
  },
  {
   "cell_type": "code",
   "execution_count": 5,
   "metadata": {},
   "outputs": [
    {
     "name": "stdout",
     "output_type": "stream",
     "text": [
      "keep up the good work,Anjali\n"
     ]
    }
   ],
   "source": [
    "print(f\"keep up the good work,{newstudents[0].title()}\")"
   ]
  },
  {
   "cell_type": "code",
   "execution_count": null,
   "metadata": {},
   "outputs": [],
   "source": []
  },
  {
   "cell_type": "code",
   "execution_count": 6,
   "metadata": {},
   "outputs": [
    {
     "name": "stdout",
     "output_type": "stream",
     "text": [
      "keep up the good work, anjali\n",
      "keep up the good work, mansoora\n",
      "keep up the good work, ajeeth\n",
      "keep up the good work, naveed\n",
      "keep up the good work, kiran\n",
      "keep up the good work, ram\n",
      "keep up the good work, harshitha\n",
      "keep up the good work, zubair\n"
     ]
    }
   ],
   "source": [
    "for students in newstudents:\n",
    "    print(f\"keep up the good work, {students}\")"
   ]
  },
  {
   "cell_type": "code",
   "execution_count": 7,
   "metadata": {},
   "outputs": [
    {
     "name": "stdout",
     "output_type": "stream",
     "text": [
      "keep up the good work, Anjali\n",
      "keep up the good work, Mansoora\n",
      "keep up the good work, Ajeeth\n",
      "keep up the good work, Naveed\n",
      "keep up the good work, Kiran\n",
      "keep up the good work, Ram\n",
      "keep up the good work, Harshitha\n",
      "keep up the good work, Zubair\n"
     ]
    }
   ],
   "source": [
    "for students in newstudents:\n",
    "    print(f\"keep up the good work, {students.title()}\")"
   ]
  },
  {
   "cell_type": "code",
   "execution_count": null,
   "metadata": {},
   "outputs": [],
   "source": [
    "# General syntax of a for loop\n",
    "formula: for tempvar in mainvar:\n",
    "        print(tempvar)     # indentation - gap before the print statement in for loop.\n",
    "                            # without this indentation formula does not work."
   ]
  },
  {
   "cell_type": "code",
   "execution_count": 8,
   "metadata": {},
   "outputs": [
    {
     "name": "stdout",
     "output_type": "stream",
     "text": [
      "keep up the good work, Anjali\n",
      "keep up the good work, Mansoora\n",
      "keep up the good work, Ajeeth\n",
      "keep up the good work, Naveed\n",
      "keep up the good work, Kiran\n",
      "keep up the good work, Ram\n",
      "keep up the good work, Harshitha\n",
      "keep up the good work, Zubair\n"
     ]
    }
   ],
   "source": [
    "for x in newstudents:\n",
    "    print(f\"keep up the good work, {x.title()}\")"
   ]
  },
  {
   "cell_type": "code",
   "execution_count": null,
   "metadata": {},
   "outputs": [],
   "source": [
    "#Req: ask for today's assigment as well"
   ]
  },
  {
   "cell_type": "code",
   "execution_count": 9,
   "metadata": {},
   "outputs": [
    {
     "name": "stdout",
     "output_type": "stream",
     "text": [
      "Keep up the good work, Anjali\n",
      "Looking forward for your files today as well,anjali\n",
      "Keep up the good work, Mansoora\n",
      "Looking forward for your files today as well,mansoora\n",
      "Keep up the good work, Ajeeth\n",
      "Looking forward for your files today as well,ajeeth\n",
      "Keep up the good work, Naveed\n",
      "Looking forward for your files today as well,naveed\n",
      "Keep up the good work, Kiran\n",
      "Looking forward for your files today as well,kiran\n",
      "Keep up the good work, Ram\n",
      "Looking forward for your files today as well,ram\n",
      "Keep up the good work, Harshitha\n",
      "Looking forward for your files today as well,harshitha\n",
      "Keep up the good work, Zubair\n",
      "Looking forward for your files today as well,zubair\n"
     ]
    }
   ],
   "source": [
    "for ironman in newstudents:\n",
    "    print(f\"Keep up the good work, {ironman.title()}\")\n",
    "    print(f\"Looking forward for your files today as well,{ironman}\")"
   ]
  },
  {
   "cell_type": "code",
   "execution_count": 20,
   "metadata": {},
   "outputs": [
    {
     "name": "stdout",
     "output_type": "stream",
     "text": [
      "Keep up the good work, Anjali\n",
      "Looking forward for your files today as well, Anjali\n",
      "\n",
      "Keep up the good work, Mansoora\n",
      "Looking forward for your files today as well, Mansoora\n",
      "\n",
      "Keep up the good work, Ajeeth\n",
      "Looking forward for your files today as well, Ajeeth\n",
      "\n",
      "Keep up the good work, Naveed\n",
      "Looking forward for your files today as well, Naveed\n",
      "\n",
      "Keep up the good work, Kiran\n",
      "Looking forward for your files today as well, Kiran\n",
      "\n",
      "Keep up the good work, Ram\n",
      "Looking forward for your files today as well, Ram\n",
      "\n",
      "Keep up the good work, Harshitha\n",
      "Looking forward for your files today as well, Harshitha\n",
      "\n",
      "Keep up the good work, Zubair\n",
      "Looking forward for your files today as well, Zubair\n",
      "\n"
     ]
    }
   ],
   "source": [
    "for ironman in newstudents:\n",
    "    print(f\"Keep up the good work, {ironman.title()}\")\n",
    "    print(f\"Looking forward for your files today as well, {ironman.title()}\\n\")"
   ]
  },
  {
   "cell_type": "code",
   "execution_count": null,
   "metadata": {},
   "outputs": [],
   "source": []
  }
 ],
 "metadata": {
  "kernelspec": {
   "display_name": "Python 3",
   "language": "python",
   "name": "python3"
  },
  "language_info": {
   "codemirror_mode": {
    "name": "ipython",
    "version": 3
   },
   "file_extension": ".py",
   "mimetype": "text/x-python",
   "name": "python",
   "nbconvert_exporter": "python",
   "pygments_lexer": "ipython3",
   "version": "3.8.3"
  }
 },
 "nbformat": 4,
 "nbformat_minor": 4
}
